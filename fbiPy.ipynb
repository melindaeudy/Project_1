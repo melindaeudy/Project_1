{
 "cells": [
  {
   "cell_type": "markdown",
   "metadata": {},
   "source": [
    "# fbiPy - Prisoners in the US\n",
    "----\n",
    "\n",
    "## Dataset: FBI"
   ]
  },
  {
   "cell_type": "code",
   "execution_count": null,
   "metadata": {
    "scrolled": true
   },
   "outputs": [],
   "source": [
    "# Dependencies and Setup\n",
    "import matplotlib.pyplot as plt\n",
    "import pandas as pd\n",
    "import numpy as np\n",
    "import requests\n",
    "import time\n",
    "from scipy.stats import linregress\n",
    "import scipy.stats as st\n",
    "from datetime import date\n",
    "import json\n",
    "# Import API key\n",
    "from config import apikey\n",
    "import ctypes  \n",
    "import datetime"
   ]
  },
  {
   "cell_type": "code",
   "execution_count": null,
   "metadata": {},
   "outputs": [],
   "source": [
    "def append_dict_to_df(current_dict, current_index, current_df):\n",
    "    single_df = pd.DataFrame(current_dict, index=[current_index])\n",
    "    if current_df.empty:\n",
    "        current_df = single_df.copy()\n",
    "    else:\n",
    "        current_df = current_df.append(single_df)        \n",
    "    current_index += 1\n",
    "    return current_df,current_index\n",
    "\n",
    "def get_offender_data(crime_type,variable,agency, year):\n",
    "    endpoint = f\"api/nibrs/{crime_type}/offender/agencies/{agency}/{variable}\"\n",
    "    done = False\n",
    "    max_attempts = 5\n",
    "    current_attemp = 1\n",
    "    wait_time = 5\n",
    "    df = pd.DataFrame()\n",
    "    # Build query URL\n",
    "    query_url = f\"{base_url}{endpoint}?api_key={apikey}\"\n",
    "    # Call API and get response\n",
    "    while (not done) & (current_attemp <= max_attempts):\n",
    "        try:\n",
    "            response = requests.get(query_url)\n",
    "            if response.status_code != 404:\n",
    "                data_json = response.json()\n",
    "                df_idx = 0\n",
    "                if len(data_json['data'])>0:\n",
    "                    for data_nbr in range(len(data_json['data'])):\n",
    "                        my_dict = data_json['data'][data_nbr]\n",
    "                        df,df_idx = append_dict_to_df(my_dict, df_idx, df)\n",
    "                    if len(df)>0:\n",
    "                        df = df.loc[df['data_year'] == year]   \n",
    "            done = True\n",
    "            break\n",
    "        except ConnectionAbortedError as err: \n",
    "            print(err)\n",
    "            print(f\"Attempt # {current_attemp} failed. Waiting {wait_time} seconds before next attempt.\")\n",
    "            time.sleep(wait_time)\n",
    "            current_attemp =+ 1    \n",
    "    return df"
   ]
  },
  {
   "cell_type": "code",
   "execution_count": null,
   "metadata": {},
   "outputs": [],
   "source": [
    "# Config information.\n",
    "base_url = \"https://api.usa.gov/crime/fbi/sapi/\""
   ]
  },
  {
   "cell_type": "code",
   "execution_count": null,
   "metadata": {},
   "outputs": [],
   "source": [
    "start_time = datetime.datetime.now()\n",
    "print(f'Process Start Time: {start_time}')\n",
    "\n",
    "# AGENCIES\n",
    "endpoint = \"api/agencies\"\n",
    "\n",
    "# Build query URL\n",
    "query_url = f\"{base_url}{endpoint}?api_key={apikey}\"\n",
    "\n",
    "# Call API and get response\n",
    "response = requests.get(query_url)\n",
    "data_json = response.json()\n",
    "agencies_df = pd.DataFrame()\n",
    "agencies_idx = 0\n",
    "\n",
    "crime_type_list = [\"property-crime\", \"violent-crime\"]\n",
    "variable = \"age\"\n",
    "year_list = [2017, 2018, 2019]\n",
    "agency_crimes_stat = pd.DataFrame()\n",
    "crimes_idx = 0\n",
    "total_agencies = len(agencies_df)\n",
    "\n",
    "for state in data_json:\n",
    "    for agency in data_json[state]:\n",
    "        agency_dict = data_json[state][agency]\n",
    "        agencies_df,agencies_idx = append_dict_to_df(agency_dict, agencies_idx, agencies_df)        \n",
    "        current_agency = agency_dict['ori']\n",
    "        print(f\"Agency {current_agency}\")        \n",
    "        for crime_type in crime_type_list:\n",
    "            for year in year_list:\n",
    "                sub_df = get_offender_data(crime_type,variable,current_agency,year)\n",
    "                if len(sub_df)>0:\n",
    "                    print(f\"          CrimeType: {crime_type}, Year: {year}, Processing Data\")\n",
    "                    total_crimes = 0\n",
    "                    for i in range(len(sub_df)):\n",
    "                        total_crimes += sub_df.iloc[i,0]\n",
    "                    print(f\"                    Total crimes {total_crimes}, Year: {year}\")\n",
    "                    my_dict = {\n",
    "                        'year': year,\n",
    "                        \"crime_type\": crime_type,\n",
    "                        'agency': current_agency,\n",
    "                        'agency_name': agency_dict['agency_name'],\n",
    "                        'county': agency_dict['county_name'],\n",
    "                        'state': agency_dict['state_abbr'],\n",
    "                        'state_name': agency_dict['state_name'],\n",
    "                        'latitude': agency_dict['latitude'],\n",
    "                        'longitude': agency_dict['longitude'],\n",
    "                        'age 0-9': sub_df.iloc[0,0],\n",
    "                        'age 10-19': sub_df.iloc[1,0],\n",
    "                        'age 20-29': sub_df.iloc[2,0],\n",
    "                        'age 30-39': sub_df.iloc[3,0],\n",
    "                        'age 40-49': sub_df.iloc[4,0],\n",
    "                        'age 50-59': sub_df.iloc[5,0],\n",
    "                        'age 60-69': sub_df.iloc[6,0],\n",
    "                        'age 70-79': sub_df.iloc[7,0],\n",
    "                        'age 80-89': sub_df.iloc[8,0],\n",
    "                        'age 90-Older': sub_df.iloc[9,0],\n",
    "                        'age Unknown': sub_df.iloc[10,0],\n",
    "                        'total_crimes': total_crimes\n",
    "                    }\n",
    "                    agency_crimes_stat,crimes_idx = append_dict_to_df(my_dict, crimes_idx, agency_crimes_stat)\n",
    "                else:\n",
    "                    print(f\"          CrimeType: {crime_type}, Year: {year}, No Data\")        "
   ]
  },
  {
   "cell_type": "code",
   "execution_count": null,
   "metadata": {},
   "outputs": [],
   "source": [
    "# Output File (CSV)\n",
    "output_data_file = \"output_data/agencies.csv\"\n",
    "\n",
    "# Export file as a CSV\n",
    "agencies_df.to_csv(output_data_file, index=False, header=True)   \n",
    "print(agencies_df)\n",
    "\n",
    "# Output File (CSV)\n",
    "output_data_file = \"output_data/agency_crimes_stat.csv\"\n",
    "# Export file as a CSV\n",
    "agency_crimes_stat.to_csv(output_data_file, index=False, header=True)\n",
    "end_time = datetime.datetime.now()\n",
    "print(f'Process End Time: {end_time}')\n",
    "elapsed_time = end_time - start_time\n",
    "print(f'Elapsed Time: {elapsed_time}')\n",
    "# Show DataFrame\n",
    "agency_crimes_stat"
   ]
  }
 ],
 "metadata": {
  "anaconda-cloud": {},
  "kernel_info": {
   "name": "python3"
  },
  "kernelspec": {
   "display_name": "Python 3",
   "language": "python",
   "name": "python3"
  },
  "language_info": {
   "codemirror_mode": {
    "name": "ipython",
    "version": 3
   },
   "file_extension": ".py",
   "mimetype": "text/x-python",
   "name": "python",
   "nbconvert_exporter": "python",
   "pygments_lexer": "ipython3",
   "version": "3.8.5"
  },
  "latex_envs": {
   "LaTeX_envs_menu_present": true,
   "autoclose": false,
   "autocomplete": true,
   "bibliofile": "biblio.bib",
   "cite_by": "apalike",
   "current_citInitial": 1,
   "eqLabelWithNumbers": true,
   "eqNumInitial": 1,
   "hotkeys": {
    "equation": "Ctrl-E",
    "itemize": "Ctrl-I"
   },
   "labels_anchors": false,
   "latex_user_defs": false,
   "report_style_numbering": false,
   "user_envs_cfg": false
  },
  "nteract": {
   "version": "0.12.3"
  }
 },
 "nbformat": 4,
 "nbformat_minor": 2
}
